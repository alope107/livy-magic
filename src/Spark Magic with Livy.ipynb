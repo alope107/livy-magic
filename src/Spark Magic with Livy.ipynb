{
 "cells": [
  {
   "cell_type": "markdown",
   "metadata": {},
   "source": [
    "# Spark Magic using Livy\n",
    "\n",
    "A quick prototype for multi-lingual operations on a remote Spark cluster.\n",
    "\n",
    "To use the magic, there must be a running Livy Server on the desired Spark cluster, and the magic must be loaded."
   ]
  },
  {
   "cell_type": "code",
   "execution_count": 1,
   "metadata": {
    "collapsed": false
   },
   "outputs": [],
   "source": [
    "%load_ext spark"
   ]
  },
  {
   "cell_type": "markdown",
   "metadata": {},
   "source": [
    "The cell magic is called using `%%spark` followed by arguments to specify the location and type of Spark context.<br/>\n",
    "`-k` specifies language. `spark` for \"pure spark\" (scala), `pyspark` for python, and `sparkR` for R<br/>\n",
    "`-h` specifies the host where the Livy Server is running.<br/>\n",
    "The remaining lines in the cell specify the code to run.  The spark context is located by default at the vairable `sc`."
   ]
  },
  {
   "cell_type": "code",
   "execution_count": 2,
   "metadata": {
    "collapsed": false
   },
   "outputs": [
    {
     "data": {
      "text/plain": [
       "u'res0: Long = 1000'"
      ]
     },
     "execution_count": 2,
     "metadata": {},
     "output_type": "execute_result"
    }
   ],
   "source": [
    "%%spark -k spark -h http://localhost:8998\n",
    "sc.parallelize(1 to 1000).count()"
   ]
  },
  {
   "cell_type": "code",
   "execution_count": 3,
   "metadata": {
    "collapsed": false
   },
   "outputs": [
    {
     "data": {
      "text/plain": [
       "u'1000'"
      ]
     },
     "execution_count": 3,
     "metadata": {},
     "output_type": "execute_result"
    }
   ],
   "source": [
    "%%spark -k pyspark -h http://localhost:8998\n",
    "sc.parallelize(range(1000)).count()"
   ]
  },
  {
   "cell_type": "markdown",
   "metadata": {
    "collapsed": true
   },
   "source": [
    "SparkR does not yet work, but it should not be much work to fix it."
   ]
  }
 ],
 "metadata": {
  "kernelspec": {
   "display_name": "Python 2",
   "language": "python",
   "name": "python2"
  },
  "language_info": {
   "codemirror_mode": {
    "name": "ipython",
    "version": 2
   },
   "file_extension": ".py",
   "mimetype": "text/x-python",
   "name": "python",
   "nbconvert_exporter": "python",
   "pygments_lexer": "ipython2",
   "version": "2.7.10"
  }
 },
 "nbformat": 4,
 "nbformat_minor": 0
}
